{
 "cells": [
  {
   "cell_type": "code",
   "execution_count": null,
   "metadata": {},
   "outputs": [],
   "source": [
    "from domino_mlflow_client import DominoMLFlowClient as dmc\n",
    "\n",
    "dmc.deploy_domino_model_api_to_staging(\n",
    "        mlflow_model_name='DEMO-mlops-demo', mlflow_model_version=1, env_id='636ac1775fdc6e30b9571f3c'\n",
    "    )"
   ]
  }
 ],
 "metadata": {
  "language_info": {
   "name": "python"
  },
  "orig_nbformat": 4
 },
 "nbformat": 4,
 "nbformat_minor": 2
}
